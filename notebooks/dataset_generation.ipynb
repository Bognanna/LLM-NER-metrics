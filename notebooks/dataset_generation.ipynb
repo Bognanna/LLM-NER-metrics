{
 "cells": [
  {
   "cell_type": "markdown",
   "id": "de328065",
   "metadata": {},
   "source": [
    "https://www.fahdmirza.com/2024/08/free-llm-dataset-creation-with-ollama.html"
   ]
  },
  {
   "cell_type": "markdown",
   "id": "135870d7",
   "metadata": {},
   "source": [
    "## Prepare sentences to paraphrase"
   ]
  },
  {
   "cell_type": "code",
   "execution_count": 1,
   "id": "28ed5643",
   "metadata": {},
   "outputs": [],
   "source": [
    "import json\n",
    "import ollama\n",
    "import os"
   ]
  },
  {
   "cell_type": "code",
   "execution_count": 2,
   "id": "be2e0447",
   "metadata": {},
   "outputs": [],
   "source": [
    "path = \"..//data//external//cadec//text\"\n",
    "dir_list = os.listdir(path)"
   ]
  },
  {
   "cell_type": "code",
   "execution_count": 3,
   "id": "4b0f8541",
   "metadata": {},
   "outputs": [],
   "source": [
    "def long_sentence(s):\n",
    "    return len(s.split()) >= 5"
   ]
  },
  {
   "cell_type": "code",
   "execution_count": 18,
   "id": "3fe6c3b7",
   "metadata": {},
   "outputs": [
    {
     "name": "stdout",
     "output_type": "stream",
     "text": [
      "I feel a bit drowsy & have a little blurred vision, so far no gastric problems.\n",
      "\n",
      "I've been on Arthrotec 50 for over 10 years on and off, only taking it when I needed it.\n",
      "\n",
      "Due to my arthritis getting progressively worse, to the point where I am in tears with the agony, gp's started me on 75 twice a day and I have to take it.\n",
      "\n",
      "every day for the next month to see how I get on, here goes.\n",
      "\n",
      "So far its been very good, pains almost gone, but I feel a bit weird, didn't have that when on 50.\n",
      "\n",
      "Brilliant, I have a new lease of life, i walk up & down steps properly, no longer sideways like a toddler, hip pain as gone other than if i jar it.\n",
      "\n",
      "no side effects for the first two months .\n",
      "\n",
      "then vaginal bleeding 2 wks after menstral cycle.\n",
      "\n",
      "canker sores in my mouth.\n",
      "\n",
      "been off for 1 week still have bleeding.\n",
      "\n",
      "helped my pain alot .\n",
      "\n",
      "too scared to take this drug again.\n",
      "\n",
      "1st pill taken with food, a few hours after i experienced shortness of breath, a sense of depression, cramping, upset stomache will stop taking immediately.\n",
      "\n",
      "Honestly can not recommend this drug, I am still experiencing side effects just after 1 pill and im supposed to take twice/day 75mg.\n",
      "\n",
      "I just cant keep going have to try something else.\n",
      "\n",
      "I have had no side effects been taking Arthrotec a little over a year, have not noticed any side effects.\n",
      "\n",
      "It does help alot I noticed that when there are times when I forget to take it I can't stand or walk for any lengths of time.\n",
      "\n",
      "It seems as if bleeding forever is a side effect but doctors tell you that its not the drug\n",
      "\n",
      "I have been on Arthotec for Three months I still have pain and stiffness\n",
      "\n",
      "at first week into this drug I was in so much pain I sat on the floor at work and thought I was gaving a baby.\n",
      "\n",
      "I always feel weak and almost fainted a bunch of times.\n",
      "\n",
      "Consider somthing that works I am switching today as this isnt in my head.\n",
      "\n",
      "some diarrhea, some constipation, fatigue.\n",
      "\n",
      "it works very well for the heel; I couldn't walk on it very well before taking it.\n",
      "\n",
      "I take 75mg.twice a day.\n",
      "\n",
      "Also have severe osteoarthritis in the knees and hands, but it doesn't seem to relieve that pain at all.\n",
      "\n",
      "I've been on 75mg twice daily for 13 days, with recent body swelling, face, wrists, abdomen, thighs - clothes fit tight.\n",
      "\n",
      "I have forgetfulnes and confussion - really bad - almost dangerous.\n",
      "\n",
      "Have felt \"empty stomach\" feeling, but not bothersome.\n",
      "\n",
      "Have had more loose stools, but tolerable.\n",
      "\n",
      "I'm looking for a more natural therapy, checking into HA (Hyaluronic Acid) to replace Arthrotec.\n",
      "\n",
      "none that I can think of.\n",
      "\n",
      "I recently had bilateral knee replacement.\n",
      "\n",
      "Prior to that, Arthrotec was the only drug that helped.\n",
      "\n",
      "I tried every drug on the market,but, to no avail.\n",
      "\n",
      "I took 50 mg. 3 times a day of Arthrotec and was almost pain free.\n",
      "\n",
      "I highly recommend it to anyone that suffers from arthritis.\n",
      "\n",
      "Hospitalization due extreme rectal bleed that required blood transfusion.\n",
      "\n",
      "I was extremely sick and initially felt I might not survive.\n",
      "\n",
      "Should be removed from market.\n",
      "\n"
     ]
    }
   ],
   "source": [
    "file_path = 'example.txt'\n",
    "files_text= []\n",
    "\n",
    "for f in dir_list[:10]:\n",
    "    with open(f'{path}//{f}', 'r') as file:\n",
    "        for line in file.readlines():\n",
    "                files_text.append(line)\n",
    "\n",
    "sentences = list(filter(long_sentence, files_text))\n",
    "\n",
    "for s in sentences:\n",
    "    print(s)"
   ]
  },
  {
   "cell_type": "markdown",
   "id": "d0a87d04",
   "metadata": {},
   "source": [
    "## Write prompt"
   ]
  },
  {
   "cell_type": "code",
   "execution_count": 5,
   "id": "ca24841f",
   "metadata": {},
   "outputs": [],
   "source": [
    "def make_llama_3_prompt(user, system=\"\", assistant=\"\"):\n",
    "    system_prompt = \"\"\n",
    "    if system:\n",
    "        system_prompt = (\n",
    "            f\"<|start_header_id|>system<|end_header_id|>\\n\\n{system}<|eot_id|>\"\n",
    "        )\n",
    "    \n",
    "    user_prompt = f\"<|start_header_id|>user<|end_header_id|>\\n\\n{user}<|eot_id|>\"\n",
    "    assistant_prompt = f\"<|start_header_id|>assistant<|end_header_id|>\\n\\n{assistant}<|eot_id|>\" if assistant else \"<|start_header_id|>assistant<|end_header_id|>\\n\\n\"\n",
    "    \n",
    "    return f\"<|begin_of_text|>{system_prompt}{user_prompt}{assistant_prompt}\""
   ]
  },
  {
   "cell_type": "code",
   "execution_count": 20,
   "id": "6b9d1c65",
   "metadata": {},
   "outputs": [],
   "source": [
    "def generate_paraphrase(sentence):\n",
    "    system = \"You are an english text editor with 10 years of experience in paraphrasing sentences. \\n\"\n",
    "    system += \"Consider the following sentences and their paraphrases:\\n\"\n",
    "    \n",
    "    sentence_1 = \"I was prescribed a medication for bone and joint pain associated with Lupus.\"\n",
    "    paraphrase_1 = \"I was prescribed a drug to treat the joint and bone ache caused by lupus.\"\n",
    "    \n",
    "    sentence_2 = \"I have had no recognizable side effects.\"\n",
    "    paraphrase_2 = \"I have not experienced any noticeable side effects.\"\n",
    "\n",
    "    sentence_3 = \"The drug almost completely wiped out the pain from the herniated discs, and has replaced patients' usual narcotic pain relief for back.\"\n",
    "    paraphrase_3 = \"The drug has almost completely eliminated the pain caused by the herniated discs, providing an alternative to the usual narcotic pain relief for back pain.\"\n",
    "    \n",
    "    system += \"Sentence: \" + sentence_1 + \"\\n\"\n",
    "    system += \"Paraphrase: \" + paraphrase_1 + \"\\n\"\n",
    "    system += \"Sentence: \" + sentence_2 + \"\\n\"\n",
    "    system += \"Paraphrase: \" + paraphrase_2 + \"\\n\"\n",
    "    system += \"Sentence: \" + sentence_3 + \"\\n\"\n",
    "    system += \"Paraphrase: \" + paraphrase_3 + \"\\n\"\n",
    "    \n",
    "    user = \"Based on the above examples, write a paraphrase of the following sentence: \" + sentence + \"\\n\"\n",
    "    user += \"Format the sentence and paraphrase as a JSON object, i.e.\\n\"\n",
    "    user += '{\"sentence\" : str, \"paraphrase\": str }.\\n'\n",
    "   \n",
    "    user += \"\"\"\\\n",
    "            Make sure to only return a well-written paraphrase of the given sentence. \\\n",
    "            Don't give any comments. Just return a sentence and a paraphrase as JSON objects. \\\n",
    "            Make sure paraphrase has the same meaning as the sentence. \\\n",
    "            Make sure all medical entities from original sentence are also present in the paraphrase (in original or paraphrased form e.g 'ache' instead of 'pain'). \\\n",
    "            Make sure there are no medical entities in paraphrase, that are not present in the original sentence.\n",
    "            \"\"\"\n",
    "    system += sentence\n",
    "    \n",
    "    prompt = make_llama_3_prompt(user, system)\n",
    "\n",
    "    # Generate the result from the model\n",
    "    result = ollama.generate(model='llama3.2', prompt=prompt)\n",
    "\n",
    "    # Inspect and parse the result['response']\n",
    "    response_str = result['response']\n",
    "    try:\n",
    "        response_dict = json.loads(response_str)\n",
    "    except json.JSONDecodeError as e:\n",
    "        print(\"Failed to parse response as JSON:\", e)\n",
    "        response_dict = {}\n",
    "\n",
    "    return response_dict"
   ]
  },
  {
   "cell_type": "markdown",
   "id": "d756b40e",
   "metadata": {},
   "source": [
    "## Run prompt"
   ]
  },
  {
   "cell_type": "code",
   "execution_count": null,
   "id": "65ff38a3",
   "metadata": {},
   "outputs": [],
   "source": [
    "all_paraphrases = []\n",
    "\n",
    "for s in sentences:\n",
    "    \n",
    "    paraphrase = generate_paraphrase(s)\n",
    "    all_paraphrases.append(paraphrase)"
   ]
  },
  {
   "cell_type": "code",
   "execution_count": 22,
   "id": "0de8a9fa",
   "metadata": {},
   "outputs": [
    {
     "data": {
      "text/plain": [
       "[{'sentence': 'I feel a bit drowsy & have a little blurred vision, so far no gastric problems.',\n",
       "  'paraphrase': 'So far, I am experiencing some dizziness and slight double vision, with no signs of stomach issues.'},\n",
       " {'sentence': \"I've been on Arthrotec 50 for over 10 years on and off, only taking it when I needed it.\",\n",
       "  'paraphrase': 'I have relied on Arthrotec 50 sporadically for over a decade.'},\n",
       " {'sentence': \"Due to my arthritis getting progressively worse, to the point where I am in tears with the agony, gp's started me on 75 twice a day and I have to take it.\",\n",
       "  'paraphrase': 'Because of worsening arthritis, which is causing me extreme distress, doctors prescribed me 75 mg twice a day, which I must now ingest regularly.'},\n",
       " {'sentence': 'every day for the next month to see how I get on, here goes.',\n",
       "  'paraphrase': 'I will commit to checking my progress every day for the next month and proceed as planned.'},\n",
       " {'sentence': \"So far its been very good, pains almost gone, but I feel a bit weird, didn't have that when on 50.\",\n",
       "  'paraphrase': 'So far, it has been excellent; my symptoms are almost completely absent, however, I do experience some unusual sensations, which were not present during the initial dosage of 50.'},\n",
       " {'sentence': 'Brilliant, I have a new lease of life, i walk up & down steps properly, no longer sideways like a toddler, hip ache as gone other than if i jar it.',\n",
       "  'paraphrase': 'I feel revitalized and can walk up and down stairs confidently without the wobbling motion, although my hip still feels slightly sore when I accidentally dislocate it.'},\n",
       " {'sentence': 'no side effects for the first two months',\n",
       "  'paraphrase': 'No adverse reactions were observed during the initial 2-month period.'},\n",
       " {'sentence': 'then vaginal bleeding 2 wks after menstral cycle',\n",
       "  'paraphrase': 'Then, about two weeks after my menstrual period, I started experiencing vaginal bleeding.'},\n",
       " {'sentence': 'Canker sores in my mouth',\n",
       "  'paraphrase': 'Mouth ulcers have appeared on my tongue.'},\n",
       " {'sentence': 'been off for 1 week still have bleeding',\n",
       "  'paraphrase': 'After a week without medication, I am still experiencing bleeding.'},\n",
       " {'sentence': 'helped my pain alot ',\n",
       "  'paraphrase': 'significantly alleviated my discomfort greatly'},\n",
       " {'sentence': 'too scared to take this drug again.',\n",
       "  'paraphrase': 'I am hesitant to use this medication once more.'},\n",
       " {'sentence': '1st pill taken with food, a few hours after i experienced shortness of breath, a sense of depression, cramping, upset stomach',\n",
       "  'paraphrase': 'I stopped taking the medication immediately after experiencing shortness of breath, feeling depressed, and experiencing stomach cramps, about an hour after taking it with food.'},\n",
       " {'sentence': \"Honestly can't recommend this drug, I'm still experiencing side effects just after 1 pill and I'm supposed to take twice a day at 75mg.\",\n",
       "  'paraphrase': 'I strongly advise against using this medication, as I am already experiencing side effects shortly after taking my first dose, which I need to take twice daily at 75mg.'},\n",
       " {'sentence': \"I just can't keep going, have to try something else.\",\n",
       "  'paraphrase': \"I'm exhausted and must find an alternative.\"},\n",
       " {'sentence': 'I have had no side effects been taking Arthrotec a little over a year, have not noticed any side effects.',\n",
       "  'paraphrase': \"Over the past year of taking Arthrotec, I haven't experienced any adverse effects.\"},\n",
       " {'sentence': \"It does help alot I noticed that when there are times when I forget to take it I can't stand or walk for any lengths of time.\",\n",
       "  'paraphrase': 'Notably, if I miss a dose, I am unable to stand or walk for extended periods.'},\n",
       " {'sentence': 'It seems as if bleeding forever is a side effect but doctors tell you that its not the drug',\n",
       "  'paraphrase': \"The condition of continuous bleeding appears to be a side effect, but medical professionals assure patients it's not related to the medication.\"},\n",
       " {'sentence': 'I have been on Arthotec for Three months I still have pain and stiffness',\n",
       "  'paraphrase': 'I have been taking Arthotec for three months and continue to experience joint and muscle discomfort.'},\n",
       " {'sentence': 'at first week into this drug I was in so much pain I sat on the floor at work and thought I was giving a baby',\n",
       "  'paraphrase': 'by the end of the first week with this medication, my discomfort was severe enough that I collapsed onto the floor at work, feeling as if I were about to give birth.'},\n",
       " {'sentence': 'I always feel weak and almost fainted a bunch of times.',\n",
       "  'paraphrase': 'I frequently feel extremely tired and nearly lost consciousness multiple times.'},\n",
       " {'sentence': \"Consider something that works I am switching today as this isn't in my head\",\n",
       "  'paraphrase': \"Looking for a solution that's effective, I'm making a change today because this isn't working for me.\"},\n",
       " {'sentence': 'some diarrhea, some constipation, fatigue.',\n",
       "  'paraphrase': 'occasional loose stools, occasional difficulty with bowel movements, tiredness.'},\n",
       " {'sentence': \"it works very well for the heel; I couldn't walk on it very well before taking it.\",\n",
       "  'paraphrase': 'the treatment is effective for the heel; I had difficulty walking on it prior to starting treatment.'},\n",
       " {'sentence': 'I take 75mg.twice a day.',\n",
       "  'paraphrase': 'I am taking 75 milligrams of medication twice daily.'},\n",
       " {'sentence': \"Also have severe osteoarthritis in the knees and hands, but it doesn't seem to relieve that pain at all.\",\n",
       "  'paraphrase': 'I also suffer from severe osteoarthritis in my knees and hands, however, this medication does not appear to alleviate the discomfort associated with these conditions.'},\n",
       " {'sentence': \"I've been on 75mg twice daily for 13 days, with recent body swelling, face, wrists, abdomen, thighs - clothes fit tight.\",\n",
       "  'paraphrase': \"For 13 days, I've taken 75mg of the medication twice a day, and lately, I've noticed swelling in my face, wrists, abdomen, and thighs, which hasn't restricted my clothing.\"},\n",
       " {'sentence': 'I have forgetfulness and confusion - really bad - almost dangerous.',\n",
       "  'paraphrase': 'My memory lapses and disorientation are extremely severe and pose a significant risk.'},\n",
       " {'sentence': 'Have felt \"empty stomach\" feeling, but not bothersome.',\n",
       "  'paraphrase': 'I have experienced a gnawing or hollow sensation in my stomach, which is not severe.'},\n",
       " {'sentence': 'Have had more loose stools, but tolerable',\n",
       "  'paraphrase': 'I have experienced a slight increase in loose stools, which is manageable.'},\n",
       " {'sentence': \"I'm looking for a more natural therapy\",\n",
       "  'paraphrase': 'Seeking a more holistic approach to treatment, I am exploring HA (Hyaluronic Acid) as an alternative to Arthrotec.'},\n",
       " {'sentence': 'none that I can think of',\n",
       "  'paraphrase': 'no alternatives come to mind'},\n",
       " {'sentence': 'I recently had bilateral knee replacement.',\n",
       "  'paraphrase': 'Recently underwent a surgical procedure to replace both knees.'},\n",
       " {'sentence': 'Prior to that, Arthrotec was the only drug that helped.',\n",
       "  'paraphrase': 'Before then, Arthrotec was the sole remedy for relief.'},\n",
       " {'sentence': 'I tried every drug on the market,but, to no avail.',\n",
       "  'paraphrase': 'I exhausted all available medications without achieving success.'},\n",
       " {'sentence': 'I took 50 mg. 3 times a day of Arthrotec and was almost pain free.',\n",
       "  'paraphrase': 'I took 50 mg three times a day of Arthrotec, experiencing almost no discomfort.'},\n",
       " {'sentence': 'I highly recommend it to anyone that suffers from arthritis.',\n",
       "  'paraphrase': 'I strongly advise considering this for those experiencing joint pain due to arthritis.'},\n",
       " {'sentence': 'Hospitalization due extreme rectal bleed that required blood transfusion.',\n",
       "  'paraphrase': 'Hospitalization was necessary for a severe rectal bleeding episode that necessitated a blood transfusion.'},\n",
       " {'sentence': 'I was extremely sick and initially felt I might not survive.',\n",
       "  'paraphrase': \"I had a severe illness and feared I wouldn't make it.\"},\n",
       " {'sentence': 'Should be removed from market.',\n",
       "  'paraphrase': 'It should be taken off the shelves.'}]"
      ]
     },
     "execution_count": 22,
     "metadata": {},
     "output_type": "execute_result"
    }
   ],
   "source": [
    "all_paraphrases"
   ]
  },
  {
   "cell_type": "markdown",
   "id": "16bd7649",
   "metadata": {},
   "source": [
    "## Save output to json lines"
   ]
  },
  {
   "cell_type": "code",
   "execution_count": 7,
   "id": "e9a4ba1b",
   "metadata": {},
   "outputs": [],
   "source": [
    "def save_to_jsonl(data, file_path):\n",
    "    with open(file_path, 'a') as f:\n",
    "        for entry in data:\n",
    "            f.write(json.dumps(entry) + '\\n')"
   ]
  },
  {
   "cell_type": "code",
   "execution_count": 24,
   "id": "57a9cdc4",
   "metadata": {},
   "outputs": [
    {
     "name": "stdout",
     "output_type": "stream",
     "text": [
      "Saved 40 questions and queries to ../data/processed/paraphrases.jsonl\n"
     ]
    }
   ],
   "source": [
    "output_file_path = '../data/processed/paraphrases.jsonl'\n",
    "\n",
    "save_to_jsonl(all_paraphrases, output_file_path)\n",
    "print(f\"Saved {len(all_paraphrases)} questions and queries to {output_file_path}\")"
   ]
  }
 ],
 "metadata": {
  "kernelspec": {
   "display_name": "Python 3",
   "language": "python",
   "name": "python3"
  },
  "language_info": {
   "codemirror_mode": {
    "name": "ipython",
    "version": 3
   },
   "file_extension": ".py",
   "mimetype": "text/x-python",
   "name": "python",
   "nbconvert_exporter": "python",
   "pygments_lexer": "ipython3",
   "version": "3.12.2"
  }
 },
 "nbformat": 4,
 "nbformat_minor": 5
}
