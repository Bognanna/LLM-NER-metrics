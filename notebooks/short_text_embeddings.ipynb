{
 "cells": [
  {
   "cell_type": "markdown",
   "metadata": {},
   "source": [
    "## Cosine similarity"
   ]
  },
  {
   "cell_type": "code",
   "execution_count": 2,
   "metadata": {},
   "outputs": [],
   "source": [
    "import numpy as np   \n",
    "\n",
    "def cosine(v1, v2):\n",
    "    v1, v2 = np.array(v1), np.array(v2)\n",
    "    return np.dot(v1, v2) / (np.linalg.norm(v1) * np.linalg.norm(v2))"
   ]
  },
  {
   "cell_type": "markdown",
   "metadata": {},
   "source": [
    "## Load embeddings\n",
    "https://nlp.stanford.edu/projects/glove/"
   ]
  },
  {
   "cell_type": "code",
   "execution_count": 3,
   "metadata": {},
   "outputs": [
    {
     "name": "stderr",
     "output_type": "stream",
     "text": [
      "<>:13: SyntaxWarning: invalid escape sequence '\\d'\n",
      "<>:13: SyntaxWarning: invalid escape sequence '\\d'\n",
      "C:\\Users\\User\\AppData\\Local\\Temp\\ipykernel_9748\\2635219672.py:13: SyntaxWarning: invalid escape sequence '\\d'\n",
      "  mapping = load_embeddings('..\\data\\external\\glove.6B.50d.txt')\n"
     ]
    }
   ],
   "source": [
    "def load_embeddings(path):\n",
    "    mapping = dict()\n",
    "    \n",
    "    with open(path, 'r', encoding='utf8') as f:\n",
    "        for line in f:\n",
    "            line = line.strip()\n",
    "            if len(line) == 0:\n",
    "                continue\n",
    "            splitted = line.split(\" \")\n",
    "            mapping[splitted[0]] = np.array(splitted[1:], dtype=float)\n",
    "    return mapping\n",
    "\n",
    "mapping = load_embeddings('..\\data\\external\\glove.6B.50d.txt')"
   ]
  },
  {
   "cell_type": "markdown",
   "metadata": {},
   "source": [
    "## Text to embeddings\n",
    "Average vector of word vectors in a text."
   ]
  },
  {
   "cell_type": "code",
   "execution_count": 13,
   "metadata": {},
   "outputs": [
    {
     "name": "stderr",
     "output_type": "stream",
     "text": [
      "[nltk_data] Downloading package punkt to\n",
      "[nltk_data]     C:\\Users\\User\\AppData\\Roaming\\nltk_data...\n",
      "[nltk_data]   Unzipping tokenizers\\punkt.zip.\n"
     ]
    },
    {
     "data": {
      "text/plain": [
       "True"
      ]
     },
     "execution_count": 13,
     "metadata": {},
     "output_type": "execute_result"
    }
   ],
   "source": [
    "import nltk\n",
    "nltk.download('punkt') #https://www.nltk.org/data.html"
   ]
  },
  {
   "cell_type": "code",
   "execution_count": 25,
   "metadata": {},
   "outputs": [],
   "source": [
    "from nltk.tokenize import word_tokenize\n",
    "\n",
    "def document_to_avg_embedding(doc, embeddings):\n",
    "    \n",
    "    doc_embeddings = []\n",
    "    doc = str.lower(doc)\n",
    "    tokens = word_tokenize(doc)\n",
    "\n",
    "    for token in tokens:\n",
    "        if token in embeddings.keys():\n",
    "            doc_embeddings.append(embeddings[token])\n",
    "    \n",
    "    avg_embedding = np.mean(np.array(doc_embeddings), axis=0)\n",
    "\n",
    "    return avg_embedding"
   ]
  },
  {
   "cell_type": "markdown",
   "metadata": {},
   "source": [
    "## Cosine similarity between docs"
   ]
  },
  {
   "cell_type": "code",
   "execution_count": 28,
   "metadata": {},
   "outputs": [],
   "source": [
    "def cosine_sim_between_docs(doc1, doc2, embeddings, verbose=False):\n",
    "\n",
    "    v1 = document_to_avg_embedding(doc1, embeddings)\n",
    "    v2 = document_to_avg_embedding(doc2, embeddings)\n",
    "    cosine_sim = cosine(v1, v2)\n",
    "\n",
    "    if verbose:\n",
    "        print(f'Cosine similarity between {doc1} and {doc2} is:\\n{cosine_sim}\\n')\n",
    "\n",
    "    return cosine_sim"
   ]
  },
  {
   "cell_type": "markdown",
   "metadata": {},
   "source": [
    "Below results are not promising, however I must to test it on bigger dataset."
   ]
  },
  {
   "cell_type": "code",
   "execution_count": null,
   "metadata": {},
   "outputs": [
    {
     "name": "stdout",
     "output_type": "stream",
     "text": [
      "Cosine similarity between Mary had a little lamb and A girl had a small sheep is:\n",
      "0.8991286073011774\n",
      "\n",
      "Cosine similarity between Mary had a little lamb and This old man, he played one is:\n",
      "0.906964976899118\n",
      "\n",
      "Cosine similarity between Mary had a little lamb and Twinkle Twinkle Little Star How I wonder what you are! is:\n",
      "0.7681287321680009\n",
      "\n",
      "Cosine similarity between Mary had a little lamb and Your STIHL earth auger uses an oil-gasoline mixture for fuel (see the chapter on Fuel in your owner's manual). is:\n",
      "0.8210465662463234\n",
      "\n"
     ]
    },
    {
     "data": {
      "text/plain": [
       "0.8210465662463234"
      ]
     },
     "execution_count": 36,
     "metadata": {},
     "output_type": "execute_result"
    }
   ],
   "source": [
    "cosine_sim_between_docs(\"Mary had a little lamb\", \"A girl had a small sheep\", mapping, verbose=True) #0.8991286073011774\n",
    "cosine_sim_between_docs(\"Mary had a little lamb\", \"This old man, he played one\", mapping, verbose=True) #0.906964976899118\n",
    "cosine_sim_between_docs(\"Mary had a little lamb\", \"Twinkle Twinkle Little Star How I wonder what you are!\", mapping, verbose=True) #0.7681287321680009\n",
    "cosine_sim_between_docs(\"Mary had a little lamb\", \"Your STIHL earth auger uses an oil-gasoline mixture for fuel (see the chapter on Fuel in your owner's manual).\", mapping, verbose=True) #0.8210465662463234"
   ]
  }
 ],
 "metadata": {
  "kernelspec": {
   "display_name": "Python 3",
   "language": "python",
   "name": "python3"
  },
  "language_info": {
   "codemirror_mode": {
    "name": "ipython",
    "version": 3
   },
   "file_extension": ".py",
   "mimetype": "text/x-python",
   "name": "python",
   "nbconvert_exporter": "python",
   "pygments_lexer": "ipython3",
   "version": "3.12.2"
  }
 },
 "nbformat": 4,
 "nbformat_minor": 2
}
