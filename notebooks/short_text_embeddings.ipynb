{
 "cells": [
  {
   "cell_type": "code",
   "execution_count": 25,
   "metadata": {},
   "outputs": [],
   "source": [
    "import pandas as pd\n",
    "import os"
   ]
  },
  {
   "cell_type": "markdown",
   "metadata": {},
   "source": [
    "## ShARe dataset"
   ]
  },
  {
   "cell_type": "code",
   "execution_count": 26,
   "metadata": {},
   "outputs": [
    {
     "name": "stderr",
     "output_type": "stream",
     "text": [
      "<>:1: SyntaxWarning: invalid escape sequence '\\d'\n",
      "<>:1: SyntaxWarning: invalid escape sequence '\\d'\n",
      "C:\\Users\\User\\AppData\\Local\\Temp\\ipykernel_14432\\1572789444.py:1: SyntaxWarning: invalid escape sequence '\\d'\n",
      "  df = pd.read_stata('..\\data\\external\\sharew9_rel9-0-0_ph.dta')\n"
     ]
    },
    {
     "data": {
      "text/html": [
       "<div>\n",
       "<style scoped>\n",
       "    .dataframe tbody tr th:only-of-type {\n",
       "        vertical-align: middle;\n",
       "    }\n",
       "\n",
       "    .dataframe tbody tr th {\n",
       "        vertical-align: top;\n",
       "    }\n",
       "\n",
       "    .dataframe thead th {\n",
       "        text-align: right;\n",
       "    }\n",
       "</style>\n",
       "<table border=\"1\" class=\"dataframe\">\n",
       "  <thead>\n",
       "    <tr style=\"text-align: right;\">\n",
       "      <th></th>\n",
       "      <th>mergeid</th>\n",
       "      <th>hhid9</th>\n",
       "      <th>mergeidp9</th>\n",
       "      <th>coupleid9</th>\n",
       "      <th>country</th>\n",
       "      <th>language</th>\n",
       "      <th>ph003_</th>\n",
       "      <th>ph004_</th>\n",
       "      <th>ph005_</th>\n",
       "      <th>ph006d1</th>\n",
       "      <th>...</th>\n",
       "      <th>ph089d2</th>\n",
       "      <th>ph089d3</th>\n",
       "      <th>ph089d4</th>\n",
       "      <th>ph089dno</th>\n",
       "      <th>ph095_</th>\n",
       "      <th>ph690d1</th>\n",
       "      <th>ph690d2</th>\n",
       "      <th>ph690d3</th>\n",
       "      <th>ph690d4</th>\n",
       "      <th>ph745_</th>\n",
       "    </tr>\n",
       "  </thead>\n",
       "  <tbody>\n",
       "    <tr>\n",
       "      <th>0</th>\n",
       "      <td>AT-000787-01</td>\n",
       "      <td>AT-000787-A</td>\n",
       "      <td>AT-000787-02</td>\n",
       "      <td>AT-000787-01-02</td>\n",
       "      <td>Austria</td>\n",
       "      <td>German (at)</td>\n",
       "      <td>Very good</td>\n",
       "      <td>No</td>\n",
       "      <td>Not limited</td>\n",
       "      <td>Not selected</td>\n",
       "      <td>...</td>\n",
       "      <td>Not selected</td>\n",
       "      <td>Not selected</td>\n",
       "      <td>Not selected</td>\n",
       "      <td>Selected</td>\n",
       "      <td>NaN</td>\n",
       "      <td>Selected</td>\n",
       "      <td>Not selected</td>\n",
       "      <td>Not selected</td>\n",
       "      <td>Not selected</td>\n",
       "      <td>Yes</td>\n",
       "    </tr>\n",
       "    <tr>\n",
       "      <th>1</th>\n",
       "      <td>AT-001492-01</td>\n",
       "      <td>AT-001492-A</td>\n",
       "      <td>AT-001492-02</td>\n",
       "      <td>AT-001492-01-02</td>\n",
       "      <td>Austria</td>\n",
       "      <td>German (at)</td>\n",
       "      <td>Good</td>\n",
       "      <td>No</td>\n",
       "      <td>Not limited</td>\n",
       "      <td>Not selected</td>\n",
       "      <td>...</td>\n",
       "      <td>Not selected</td>\n",
       "      <td>Not selected</td>\n",
       "      <td>Not selected</td>\n",
       "      <td>Selected</td>\n",
       "      <td>NaN</td>\n",
       "      <td>Selected</td>\n",
       "      <td>Not selected</td>\n",
       "      <td>Selected</td>\n",
       "      <td>Not selected</td>\n",
       "      <td>No</td>\n",
       "    </tr>\n",
       "    <tr>\n",
       "      <th>2</th>\n",
       "      <td>AT-001492-02</td>\n",
       "      <td>AT-001492-A</td>\n",
       "      <td>AT-001492-01</td>\n",
       "      <td>AT-001492-01-02</td>\n",
       "      <td>Austria</td>\n",
       "      <td>German (at)</td>\n",
       "      <td>Excellent</td>\n",
       "      <td>Yes</td>\n",
       "      <td>Not limited</td>\n",
       "      <td>Not selected</td>\n",
       "      <td>...</td>\n",
       "      <td>Not selected</td>\n",
       "      <td>Not selected</td>\n",
       "      <td>Not selected</td>\n",
       "      <td>Selected</td>\n",
       "      <td>2.0</td>\n",
       "      <td>Selected</td>\n",
       "      <td>Not selected</td>\n",
       "      <td>Selected</td>\n",
       "      <td>Not selected</td>\n",
       "      <td>No</td>\n",
       "    </tr>\n",
       "    <tr>\n",
       "      <th>3</th>\n",
       "      <td>AT-001719-01</td>\n",
       "      <td>AT-001719-A</td>\n",
       "      <td>AT-001719-02</td>\n",
       "      <td>AT-001719-01-02</td>\n",
       "      <td>Austria</td>\n",
       "      <td>German (at)</td>\n",
       "      <td>Poor</td>\n",
       "      <td>Yes</td>\n",
       "      <td>Severely limited</td>\n",
       "      <td>Selected</td>\n",
       "      <td>...</td>\n",
       "      <td>Not selected</td>\n",
       "      <td>Not selected</td>\n",
       "      <td>Not selected</td>\n",
       "      <td>Selected</td>\n",
       "      <td>NaN</td>\n",
       "      <td>Selected</td>\n",
       "      <td>Not selected</td>\n",
       "      <td>Not selected</td>\n",
       "      <td>Not selected</td>\n",
       "      <td>No</td>\n",
       "    </tr>\n",
       "    <tr>\n",
       "      <th>4</th>\n",
       "      <td>AT-001719-02</td>\n",
       "      <td>AT-001719-A</td>\n",
       "      <td>AT-001719-01</td>\n",
       "      <td>AT-001719-01-02</td>\n",
       "      <td>Austria</td>\n",
       "      <td>German (at)</td>\n",
       "      <td>Fair</td>\n",
       "      <td>Yes</td>\n",
       "      <td>Limited, but not severely</td>\n",
       "      <td>Not selected</td>\n",
       "      <td>...</td>\n",
       "      <td>Not selected</td>\n",
       "      <td>Not selected</td>\n",
       "      <td>Not selected</td>\n",
       "      <td>Selected</td>\n",
       "      <td>NaN</td>\n",
       "      <td>NaN</td>\n",
       "      <td>NaN</td>\n",
       "      <td>NaN</td>\n",
       "      <td>NaN</td>\n",
       "      <td>No</td>\n",
       "    </tr>\n",
       "    <tr>\n",
       "      <th>...</th>\n",
       "      <td>...</td>\n",
       "      <td>...</td>\n",
       "      <td>...</td>\n",
       "      <td>...</td>\n",
       "      <td>...</td>\n",
       "      <td>...</td>\n",
       "      <td>...</td>\n",
       "      <td>...</td>\n",
       "      <td>...</td>\n",
       "      <td>...</td>\n",
       "      <td>...</td>\n",
       "      <td>...</td>\n",
       "      <td>...</td>\n",
       "      <td>...</td>\n",
       "      <td>...</td>\n",
       "      <td>...</td>\n",
       "      <td>...</td>\n",
       "      <td>...</td>\n",
       "      <td>...</td>\n",
       "      <td>...</td>\n",
       "      <td>...</td>\n",
       "    </tr>\n",
       "    <tr>\n",
       "      <th>69442</th>\n",
       "      <td>SK-992332-01</td>\n",
       "      <td>SK-992332-A</td>\n",
       "      <td>SK-992332-02</td>\n",
       "      <td>SK-992332-01-02</td>\n",
       "      <td>Slovakia</td>\n",
       "      <td>Slovakian</td>\n",
       "      <td>Good</td>\n",
       "      <td>No</td>\n",
       "      <td>Not limited</td>\n",
       "      <td>Not selected</td>\n",
       "      <td>...</td>\n",
       "      <td>Not selected</td>\n",
       "      <td>Not selected</td>\n",
       "      <td>Not selected</td>\n",
       "      <td>Selected</td>\n",
       "      <td>NaN</td>\n",
       "      <td>Selected</td>\n",
       "      <td>Not selected</td>\n",
       "      <td>Not selected</td>\n",
       "      <td>Not selected</td>\n",
       "      <td>No</td>\n",
       "    </tr>\n",
       "    <tr>\n",
       "      <th>69443</th>\n",
       "      <td>SK-992332-02</td>\n",
       "      <td>SK-992332-A</td>\n",
       "      <td>SK-992332-01</td>\n",
       "      <td>SK-992332-01-02</td>\n",
       "      <td>Slovakia</td>\n",
       "      <td>Slovakian</td>\n",
       "      <td>Good</td>\n",
       "      <td>No</td>\n",
       "      <td>Not limited</td>\n",
       "      <td>Not selected</td>\n",
       "      <td>...</td>\n",
       "      <td>Not selected</td>\n",
       "      <td>Not selected</td>\n",
       "      <td>Not selected</td>\n",
       "      <td>Selected</td>\n",
       "      <td>NaN</td>\n",
       "      <td>Selected</td>\n",
       "      <td>Not selected</td>\n",
       "      <td>Not selected</td>\n",
       "      <td>Not selected</td>\n",
       "      <td>No</td>\n",
       "    </tr>\n",
       "    <tr>\n",
       "      <th>69444</th>\n",
       "      <td>SK-995042-01</td>\n",
       "      <td>SK-995042-A</td>\n",
       "      <td>SK-995042-02</td>\n",
       "      <td>SK-995042-01-02</td>\n",
       "      <td>Slovakia</td>\n",
       "      <td>Slovakian</td>\n",
       "      <td>Poor</td>\n",
       "      <td>Yes</td>\n",
       "      <td>Severely limited</td>\n",
       "      <td>Selected</td>\n",
       "      <td>...</td>\n",
       "      <td>Selected</td>\n",
       "      <td>Selected</td>\n",
       "      <td>Selected</td>\n",
       "      <td>Not selected</td>\n",
       "      <td>8.0</td>\n",
       "      <td>Selected</td>\n",
       "      <td>Not selected</td>\n",
       "      <td>Not selected</td>\n",
       "      <td>Not selected</td>\n",
       "      <td>No</td>\n",
       "    </tr>\n",
       "    <tr>\n",
       "      <th>69445</th>\n",
       "      <td>SK-995042-02</td>\n",
       "      <td>SK-995042-A</td>\n",
       "      <td>SK-995042-01</td>\n",
       "      <td>SK-995042-01-02</td>\n",
       "      <td>Slovakia</td>\n",
       "      <td>Slovakian</td>\n",
       "      <td>Good</td>\n",
       "      <td>No</td>\n",
       "      <td>Not limited</td>\n",
       "      <td>Not selected</td>\n",
       "      <td>...</td>\n",
       "      <td>Not selected</td>\n",
       "      <td>Not selected</td>\n",
       "      <td>Selected</td>\n",
       "      <td>Not selected</td>\n",
       "      <td>NaN</td>\n",
       "      <td>Selected</td>\n",
       "      <td>Not selected</td>\n",
       "      <td>Not selected</td>\n",
       "      <td>Not selected</td>\n",
       "      <td>No</td>\n",
       "    </tr>\n",
       "    <tr>\n",
       "      <th>69446</th>\n",
       "      <td>SK-996004-01</td>\n",
       "      <td>SK-996004-A</td>\n",
       "      <td></td>\n",
       "      <td></td>\n",
       "      <td>Slovakia</td>\n",
       "      <td>Slovakian</td>\n",
       "      <td>Good</td>\n",
       "      <td>No</td>\n",
       "      <td>Not limited</td>\n",
       "      <td>Not selected</td>\n",
       "      <td>...</td>\n",
       "      <td>Not selected</td>\n",
       "      <td>Not selected</td>\n",
       "      <td>Selected</td>\n",
       "      <td>Not selected</td>\n",
       "      <td>NaN</td>\n",
       "      <td>Not selected</td>\n",
       "      <td>Selected</td>\n",
       "      <td>Selected</td>\n",
       "      <td>Not selected</td>\n",
       "      <td>No</td>\n",
       "    </tr>\n",
       "  </tbody>\n",
       "</table>\n",
       "<p>69447 rows × 196 columns</p>\n",
       "</div>"
      ],
      "text/plain": [
       "            mergeid        hhid9     mergeidp9        coupleid9   country  \\\n",
       "0      AT-000787-01  AT-000787-A  AT-000787-02  AT-000787-01-02   Austria   \n",
       "1      AT-001492-01  AT-001492-A  AT-001492-02  AT-001492-01-02   Austria   \n",
       "2      AT-001492-02  AT-001492-A  AT-001492-01  AT-001492-01-02   Austria   \n",
       "3      AT-001719-01  AT-001719-A  AT-001719-02  AT-001719-01-02   Austria   \n",
       "4      AT-001719-02  AT-001719-A  AT-001719-01  AT-001719-01-02   Austria   \n",
       "...             ...          ...           ...              ...       ...   \n",
       "69442  SK-992332-01  SK-992332-A  SK-992332-02  SK-992332-01-02  Slovakia   \n",
       "69443  SK-992332-02  SK-992332-A  SK-992332-01  SK-992332-01-02  Slovakia   \n",
       "69444  SK-995042-01  SK-995042-A  SK-995042-02  SK-995042-01-02  Slovakia   \n",
       "69445  SK-995042-02  SK-995042-A  SK-995042-01  SK-995042-01-02  Slovakia   \n",
       "69446  SK-996004-01  SK-996004-A                                 Slovakia   \n",
       "\n",
       "          language     ph003_ ph004_                     ph005_       ph006d1  \\\n",
       "0      German (at)  Very good     No                Not limited  Not selected   \n",
       "1      German (at)       Good     No                Not limited  Not selected   \n",
       "2      German (at)  Excellent    Yes                Not limited  Not selected   \n",
       "3      German (at)       Poor    Yes           Severely limited      Selected   \n",
       "4      German (at)       Fair    Yes  Limited, but not severely  Not selected   \n",
       "...            ...        ...    ...                        ...           ...   \n",
       "69442    Slovakian       Good     No                Not limited  Not selected   \n",
       "69443    Slovakian       Good     No                Not limited  Not selected   \n",
       "69444    Slovakian       Poor    Yes           Severely limited      Selected   \n",
       "69445    Slovakian       Good     No                Not limited  Not selected   \n",
       "69446    Slovakian       Good     No                Not limited  Not selected   \n",
       "\n",
       "       ...       ph089d2       ph089d3       ph089d4      ph089dno ph095_  \\\n",
       "0      ...  Not selected  Not selected  Not selected      Selected    NaN   \n",
       "1      ...  Not selected  Not selected  Not selected      Selected    NaN   \n",
       "2      ...  Not selected  Not selected  Not selected      Selected    2.0   \n",
       "3      ...  Not selected  Not selected  Not selected      Selected    NaN   \n",
       "4      ...  Not selected  Not selected  Not selected      Selected    NaN   \n",
       "...    ...           ...           ...           ...           ...    ...   \n",
       "69442  ...  Not selected  Not selected  Not selected      Selected    NaN   \n",
       "69443  ...  Not selected  Not selected  Not selected      Selected    NaN   \n",
       "69444  ...      Selected      Selected      Selected  Not selected    8.0   \n",
       "69445  ...  Not selected  Not selected      Selected  Not selected    NaN   \n",
       "69446  ...  Not selected  Not selected      Selected  Not selected    NaN   \n",
       "\n",
       "            ph690d1       ph690d2       ph690d3       ph690d4 ph745_  \n",
       "0          Selected  Not selected  Not selected  Not selected    Yes  \n",
       "1          Selected  Not selected      Selected  Not selected     No  \n",
       "2          Selected  Not selected      Selected  Not selected     No  \n",
       "3          Selected  Not selected  Not selected  Not selected     No  \n",
       "4               NaN           NaN           NaN           NaN     No  \n",
       "...             ...           ...           ...           ...    ...  \n",
       "69442      Selected  Not selected  Not selected  Not selected     No  \n",
       "69443      Selected  Not selected  Not selected  Not selected     No  \n",
       "69444      Selected  Not selected  Not selected  Not selected     No  \n",
       "69445      Selected  Not selected  Not selected  Not selected     No  \n",
       "69446  Not selected      Selected      Selected  Not selected     No  \n",
       "\n",
       "[69447 rows x 196 columns]"
      ]
     },
     "execution_count": 26,
     "metadata": {},
     "output_type": "execute_result"
    }
   ],
   "source": [
    "df = pd.read_stata('..\\data\\external\\sharew9_rel9-0-0_ph.dta')\n",
    "df"
   ]
  },
  {
   "cell_type": "markdown",
   "metadata": {},
   "source": [
    "## CADEC dataset"
   ]
  },
  {
   "cell_type": "markdown",
   "metadata": {},
   "source": [
    "### Read files to pandas df"
   ]
  },
  {
   "cell_type": "code",
   "execution_count": 27,
   "metadata": {},
   "outputs": [],
   "source": [
    "path = \"..//data//external//cadec//original\"\n",
    "dir_list = os.listdir(path)"
   ]
  },
  {
   "cell_type": "code",
   "execution_count": 28,
   "metadata": {},
   "outputs": [
    {
     "data": {
      "text/html": [
       "<div>\n",
       "<style scoped>\n",
       "    .dataframe tbody tr th:only-of-type {\n",
       "        vertical-align: middle;\n",
       "    }\n",
       "\n",
       "    .dataframe tbody tr th {\n",
       "        vertical-align: top;\n",
       "    }\n",
       "\n",
       "    .dataframe thead th {\n",
       "        text-align: right;\n",
       "    }\n",
       "</style>\n",
       "<table border=\"1\" class=\"dataframe\">\n",
       "  <thead>\n",
       "    <tr style=\"text-align: right;\">\n",
       "      <th></th>\n",
       "      <th>tag_number</th>\n",
       "      <th>entity_type_offsets</th>\n",
       "      <th>text</th>\n",
       "    </tr>\n",
       "  </thead>\n",
       "  <tbody>\n",
       "    <tr>\n",
       "      <th>0</th>\n",
       "      <td>T1</td>\n",
       "      <td>ADR 9 19</td>\n",
       "      <td>bit drowsy</td>\n",
       "    </tr>\n",
       "    <tr>\n",
       "      <th>1</th>\n",
       "      <td>#1</td>\n",
       "      <td>AnnotatorNotes T1</td>\n",
       "      <td>Drowsy</td>\n",
       "    </tr>\n",
       "    <tr>\n",
       "      <th>2</th>\n",
       "      <td>T2</td>\n",
       "      <td>ADR 29 50</td>\n",
       "      <td>little blurred vision</td>\n",
       "    </tr>\n",
       "    <tr>\n",
       "      <th>3</th>\n",
       "      <td>#2</td>\n",
       "      <td>AnnotatorNotes T2</td>\n",
       "      <td>Blurred Vision</td>\n",
       "    </tr>\n",
       "    <tr>\n",
       "      <th>4</th>\n",
       "      <td>T3</td>\n",
       "      <td>Drug 93 102</td>\n",
       "      <td>Arthrotec</td>\n",
       "    </tr>\n",
       "    <tr>\n",
       "      <th>...</th>\n",
       "      <td>...</td>\n",
       "      <td>...</td>\n",
       "      <td>...</td>\n",
       "    </tr>\n",
       "    <tr>\n",
       "      <th>9681</th>\n",
       "      <td>T6</td>\n",
       "      <td>Symptom 241 251</td>\n",
       "      <td>Lupus pain</td>\n",
       "    </tr>\n",
       "    <tr>\n",
       "      <th>9682</th>\n",
       "      <td>T7</td>\n",
       "      <td>Symptom 294 323</td>\n",
       "      <td>pain from the herniated discs</td>\n",
       "    </tr>\n",
       "    <tr>\n",
       "      <th>9683</th>\n",
       "      <td>T10</td>\n",
       "      <td>Finding 397 408</td>\n",
       "      <td>disc issues</td>\n",
       "    </tr>\n",
       "    <tr>\n",
       "      <th>9684</th>\n",
       "      <td>T8</td>\n",
       "      <td>Drug 528 534</td>\n",
       "      <td>Zipsor</td>\n",
       "    </tr>\n",
       "    <tr>\n",
       "      <th>9685</th>\n",
       "      <td>T9</td>\n",
       "      <td>Symptom 540 544</td>\n",
       "      <td>pain</td>\n",
       "    </tr>\n",
       "  </tbody>\n",
       "</table>\n",
       "<p>9686 rows × 3 columns</p>\n",
       "</div>"
      ],
      "text/plain": [
       "     tag_number entity_type_offsets                           text\n",
       "0            T1            ADR 9 19                     bit drowsy\n",
       "1            #1   AnnotatorNotes T1                         Drowsy\n",
       "2            T2           ADR 29 50          little blurred vision\n",
       "3            #2   AnnotatorNotes T2                 Blurred Vision\n",
       "4            T3         Drug 93 102                      Arthrotec\n",
       "...         ...                 ...                            ...\n",
       "9681         T6     Symptom 241 251                     Lupus pain\n",
       "9682         T7     Symptom 294 323  pain from the herniated discs\n",
       "9683        T10     Finding 397 408                    disc issues\n",
       "9684         T8        Drug 528 534                         Zipsor\n",
       "9685         T9     Symptom 540 544                           pain\n",
       "\n",
       "[9686 rows x 3 columns]"
      ]
     },
     "execution_count": 28,
     "metadata": {},
     "output_type": "execute_result"
    }
   ],
   "source": [
    "cadec_df = pd.concat((pd.read_csv(f'{path}//{f}', sep='\\t', names=['tag_number', 'entity_type_offsets', 'text']) for f in dir_list), ignore_index=True)\n",
    "cadec_df"
   ]
  },
  {
   "cell_type": "code",
   "execution_count": 29,
   "metadata": {},
   "outputs": [
    {
     "data": {
      "text/html": [
       "<div>\n",
       "<style scoped>\n",
       "    .dataframe tbody tr th:only-of-type {\n",
       "        vertical-align: middle;\n",
       "    }\n",
       "\n",
       "    .dataframe tbody tr th {\n",
       "        vertical-align: top;\n",
       "    }\n",
       "\n",
       "    .dataframe thead th {\n",
       "        text-align: right;\n",
       "    }\n",
       "</style>\n",
       "<table border=\"1\" class=\"dataframe\">\n",
       "  <thead>\n",
       "    <tr style=\"text-align: right;\">\n",
       "      <th></th>\n",
       "      <th>entity_type</th>\n",
       "      <th>text</th>\n",
       "    </tr>\n",
       "  </thead>\n",
       "  <tbody>\n",
       "    <tr>\n",
       "      <th>0</th>\n",
       "      <td>ADR</td>\n",
       "      <td>bit drowsy</td>\n",
       "    </tr>\n",
       "    <tr>\n",
       "      <th>1</th>\n",
       "      <td>ADR</td>\n",
       "      <td>little blurred vision</td>\n",
       "    </tr>\n",
       "    <tr>\n",
       "      <th>2</th>\n",
       "      <td>Drug</td>\n",
       "      <td>Arthrotec</td>\n",
       "    </tr>\n",
       "    <tr>\n",
       "      <th>3</th>\n",
       "      <td>Disease</td>\n",
       "      <td>arthritis</td>\n",
       "    </tr>\n",
       "    <tr>\n",
       "      <th>4</th>\n",
       "      <td>Symptom</td>\n",
       "      <td>agony</td>\n",
       "    </tr>\n",
       "    <tr>\n",
       "      <th>...</th>\n",
       "      <td>...</td>\n",
       "      <td>...</td>\n",
       "    </tr>\n",
       "    <tr>\n",
       "      <th>9106</th>\n",
       "      <td>Symptom</td>\n",
       "      <td>Lupus pain</td>\n",
       "    </tr>\n",
       "    <tr>\n",
       "      <th>9107</th>\n",
       "      <td>Symptom</td>\n",
       "      <td>pain from the herniated discs</td>\n",
       "    </tr>\n",
       "    <tr>\n",
       "      <th>9108</th>\n",
       "      <td>Finding</td>\n",
       "      <td>disc issues</td>\n",
       "    </tr>\n",
       "    <tr>\n",
       "      <th>9109</th>\n",
       "      <td>Drug</td>\n",
       "      <td>Zipsor</td>\n",
       "    </tr>\n",
       "    <tr>\n",
       "      <th>9110</th>\n",
       "      <td>Symptom</td>\n",
       "      <td>pain</td>\n",
       "    </tr>\n",
       "  </tbody>\n",
       "</table>\n",
       "<p>9111 rows × 2 columns</p>\n",
       "</div>"
      ],
      "text/plain": [
       "     entity_type                           text\n",
       "0            ADR                     bit drowsy\n",
       "1            ADR          little blurred vision\n",
       "2           Drug                      Arthrotec\n",
       "3        Disease                      arthritis\n",
       "4        Symptom                          agony\n",
       "...          ...                            ...\n",
       "9106     Symptom                     Lupus pain\n",
       "9107     Symptom  pain from the herniated discs\n",
       "9108     Finding                    disc issues\n",
       "9109        Drug                         Zipsor\n",
       "9110     Symptom                           pain\n",
       "\n",
       "[9111 rows x 2 columns]"
      ]
     },
     "execution_count": 29,
     "metadata": {},
     "output_type": "execute_result"
    }
   ],
   "source": [
    "cadec_df.entity_type_offsets = cadec_df.entity_type_offsets.str.split().str.get(0)      # Extract entity types from entity_type_offsets\n",
    "cadec_df = cadec_df.rename(columns={\"entity_type_offsets\": \"entity_type\"})              # Rename column\n",
    "cadec_df = cadec_df[ -cadec_df.tag_number.str.startswith('#')]                          # Remove annotation notes\n",
    "cadec_df = cadec_df[['entity_type', 'text']]                                            # Leave only 'entity_type' and 'text' columns\n",
    "cadec_df = cadec_df.reset_index(drop=True)                                              # Reset index\n",
    "cadec_df"
   ]
  },
  {
   "cell_type": "markdown",
   "metadata": {},
   "source": [
    "### Examine cadec dataset"
   ]
  },
  {
   "cell_type": "code",
   "execution_count": 30,
   "metadata": {},
   "outputs": [
    {
     "name": "stdout",
     "output_type": "stream",
     "text": [
      "entity_type    0\n",
      "text           0\n",
      "dtype: int64\n",
      "entity_type    0\n",
      "text           0\n",
      "dtype: int64\n"
     ]
    }
   ],
   "source": [
    "print(cadec_df.isna().sum())\n",
    "print(cadec_df.isnull().sum())"
   ]
  },
  {
   "cell_type": "code",
   "execution_count": 31,
   "metadata": {},
   "outputs": [
    {
     "data": {
      "text/plain": [
       "entity_type\n",
       "ADR        6318\n",
       "Drug       1800\n",
       "Finding     435\n",
       "Disease     283\n",
       "Symptom     275\n",
       "Name: count, dtype: int64"
      ]
     },
     "execution_count": 31,
     "metadata": {},
     "output_type": "execute_result"
    }
   ],
   "source": [
    "cadec_df.entity_type.value_counts()"
   ]
  },
  {
   "cell_type": "markdown",
   "metadata": {},
   "source": [
    "## Cosine similarity"
   ]
  },
  {
   "cell_type": "code",
   "execution_count": 32,
   "metadata": {},
   "outputs": [],
   "source": [
    "import numpy as np   \n",
    "\n",
    "def cosine(v1, v2):\n",
    "    v1, v2 = np.array(v1), np.array(v2)\n",
    "    return np.dot(v1, v2) / (np.linalg.norm(v1) * np.linalg.norm(v2))"
   ]
  },
  {
   "cell_type": "markdown",
   "metadata": {},
   "source": [
    "## Text embeddings"
   ]
  },
  {
   "cell_type": "markdown",
   "metadata": {},
   "source": [
    "### A) Load embeddings from glove\n",
    "https://nlp.stanford.edu/projects/glove/"
   ]
  },
  {
   "cell_type": "code",
   "execution_count": 33,
   "metadata": {},
   "outputs": [
    {
     "name": "stderr",
     "output_type": "stream",
     "text": [
      "<>:13: SyntaxWarning: invalid escape sequence '\\d'\n",
      "<>:13: SyntaxWarning: invalid escape sequence '\\d'\n",
      "C:\\Users\\User\\AppData\\Local\\Temp\\ipykernel_14432\\201775698.py:13: SyntaxWarning: invalid escape sequence '\\d'\n",
      "  glove_mapping = load_embeddings('..\\data\\external\\glove.6B.50d.txt')\n"
     ]
    }
   ],
   "source": [
    "def load_embeddings(path):\n",
    "    mapping = dict()\n",
    "    \n",
    "    with open(path, 'r', encoding='utf8') as f:\n",
    "        for line in f:\n",
    "            line = line.strip()\n",
    "            if len(line) == 0:\n",
    "                continue\n",
    "            splitted = line.split(\" \")\n",
    "            mapping[splitted[0]] = np.array(splitted[1:], dtype=float)\n",
    "    return mapping\n",
    "\n",
    "glove_mapping = load_embeddings('..\\data\\external\\glove.6B.50d.txt')"
   ]
  },
  {
   "cell_type": "code",
   "execution_count": 34,
   "metadata": {},
   "outputs": [
    {
     "name": "stdout",
     "output_type": "stream",
     "text": [
      "[-0.21882  -0.052644 -0.71709  -0.37229  -1.0281    1.1978   -0.30328\n",
      "  0.77862   0.25025  -0.62951   0.78612   0.088139 -2.0231    0.10228\n",
      "  0.75425   0.91266  -0.91146  -1.0711   -0.48096   0.14938  -1.9889\n",
      "  0.62956  -0.057451 -0.911    -0.25967  -0.95332   0.7802    1.23\n",
      "  0.62747  -0.40826   2.3747    1.0017    0.79222   0.50754   0.41479\n",
      "  1.443     1.3825    0.824     1.006    -0.53828  -0.86842   0.32278\n",
      " -0.42077   0.19046   0.36496  -0.30488   1.0468   -0.2758   -0.45969\n",
      " -0.014299]\n"
     ]
    }
   ],
   "source": [
    "print(glove_mapping['knee'])"
   ]
  },
  {
   "cell_type": "markdown",
   "metadata": {},
   "source": [
    "### B) Load embeddings from pretrained fasttext model"
   ]
  },
  {
   "cell_type": "code",
   "execution_count": 35,
   "metadata": {},
   "outputs": [],
   "source": [
    "from gensim.models import FastText\n",
    "\n",
    "\n",
    "model = FastText.load('..//models//cadec_corpus_01.ft')\n",
    "ft_mapping = model.wv"
   ]
  },
  {
   "cell_type": "code",
   "execution_count": 51,
   "metadata": {},
   "outputs": [
    {
     "data": {
      "text/plain": [
       "array([ 0.05848758, -0.31545046,  0.22407474, -0.22938226,  0.14228429,\n",
       "       -0.08871201, -0.2282028 , -0.08908903,  0.34998113,  0.1888631 ,\n",
       "       -0.07596505,  0.19966607,  0.12539007,  0.13188556,  0.11477008,\n",
       "        0.28421518,  0.14486554,  0.2199532 ,  0.34383518,  0.13293807,\n",
       "       -0.29564187,  0.09358893, -0.05499073,  0.03750245, -0.16615738,\n",
       "       -0.13009684,  0.4119399 , -0.30855405, -0.11533014, -0.1892448 ,\n",
       "       -0.31928208, -0.40049994, -0.47184455, -0.16303451, -0.09280337,\n",
       "       -0.03849113, -0.12354192,  0.06955361,  0.31880638,  0.37029827,\n",
       "        0.09617181,  0.27211085, -0.02327759, -0.06471575,  0.25037628,\n",
       "        0.23985676,  0.24389248,  0.04888532,  0.1001148 ,  0.32656622,\n",
       "       -0.37387517,  0.00081692, -0.00748951,  0.14167729, -0.116758  ,\n",
       "       -0.54173666, -0.0114517 , -0.20850225, -0.24585906, -0.31670544,\n",
       "        0.24575777, -0.0141519 , -0.3156632 , -0.54699826, -0.2000771 ,\n",
       "       -0.17116733,  0.22821833, -0.32593015, -0.23970257,  0.12110341,\n",
       "        0.16160144,  0.16413283, -0.10853696,  0.35698336, -0.07934274,\n",
       "       -0.21282677, -0.07823823,  0.08965765, -0.12044606, -0.2539079 ,\n",
       "       -0.06914029,  0.2945979 , -0.06580973, -0.18000668,  0.23291083,\n",
       "        0.07150406, -0.21919435, -0.39327735, -0.05663836, -0.18042837,\n",
       "        0.15439391,  0.03219479,  0.1693688 , -0.6375865 ,  0.20016952,\n",
       "       -0.11285548, -0.05598595, -0.6750172 , -0.02602258,  0.2656299 ,\n",
       "        0.16845375,  0.0113722 ,  0.01753681, -0.09503105, -0.31103736,\n",
       "       -0.03079757, -0.08084411,  0.27397636, -0.1976109 , -0.17056204,\n",
       "       -0.18434097, -0.06593145,  0.05578066,  0.12424304, -0.19534102,\n",
       "        0.33658028,  0.02822589, -0.33067223,  0.03013027,  0.12730597,\n",
       "        0.16939716, -0.00263772, -0.5811576 ,  0.07493926, -0.15932132,\n",
       "        0.04564327, -0.1815902 ,  0.02619743], dtype=float32)"
      ]
     },
     "execution_count": 51,
     "metadata": {},
     "output_type": "execute_result"
    }
   ],
   "source": [
    "ft_mapping['knee']"
   ]
  },
  {
   "cell_type": "markdown",
   "metadata": {},
   "source": [
    "## Text to embeddings\n",
    "Average vector of word vectors in a text."
   ]
  },
  {
   "cell_type": "code",
   "execution_count": 36,
   "metadata": {},
   "outputs": [
    {
     "name": "stderr",
     "output_type": "stream",
     "text": [
      "[nltk_data] Downloading package punkt to\n",
      "[nltk_data]     C:\\Users\\User\\AppData\\Roaming\\nltk_data...\n",
      "[nltk_data]   Package punkt is already up-to-date!\n"
     ]
    },
    {
     "data": {
      "text/plain": [
       "True"
      ]
     },
     "execution_count": 36,
     "metadata": {},
     "output_type": "execute_result"
    }
   ],
   "source": [
    "import nltk\n",
    "nltk.download('punkt') #https://www.nltk.org/data.html"
   ]
  },
  {
   "cell_type": "code",
   "execution_count": 43,
   "metadata": {},
   "outputs": [],
   "source": [
    "from nltk.tokenize import word_tokenize\n",
    "\n",
    "def document_to_avg_embedding(doc, embeddings):\n",
    "    \n",
    "    doc_embeddings = []\n",
    "    doc = str.lower(doc)\n",
    "    tokens = word_tokenize(doc)\n",
    "\n",
    "    for token in tokens:\n",
    "\n",
    "        try:\n",
    "            if token in embeddings.keys():\n",
    "                doc_embeddings.append(embeddings[token])\n",
    "        except AttributeError as e:\n",
    "            if token in embeddings.key_to_index.keys():\n",
    "                doc_embeddings.append(embeddings[token])\n",
    "    \n",
    "    avg_embedding = np.mean(np.array(doc_embeddings), axis=0)\n",
    "\n",
    "    return avg_embedding"
   ]
  },
  {
   "cell_type": "markdown",
   "metadata": {},
   "source": [
    "## Cosine similarity between docs"
   ]
  },
  {
   "cell_type": "code",
   "execution_count": 44,
   "metadata": {},
   "outputs": [],
   "source": [
    "def cosine_sim_between_docs(doc1, doc2, embeddings, verbose=False):\n",
    "\n",
    "    v1 = document_to_avg_embedding(doc1, embeddings)\n",
    "    v2 = document_to_avg_embedding(doc2, embeddings)\n",
    "\n",
    "    # If there is no embedings for a doc, return 0.0 (a != a returns true for NaNs).\n",
    "    try: any(v1 != v1)\n",
    "    except TypeError:\n",
    "        if verbose: print(f'Warning cannot find embedding for {doc1}.')\n",
    "        return 0.0\n",
    "    \n",
    "    try: any(v2 != v2)\n",
    "    except TypeError:\n",
    "        if verbose: print(f'Warning cannot find embedding for {doc2}.')\n",
    "        return 0.0\n",
    "    \n",
    "    cosine_sim = cosine(v1, v2)\n",
    "\n",
    "\n",
    "    if verbose:\n",
    "        print(f'Cosine similarity between {doc1} and {doc2} is:\\n{cosine_sim}\\n')\n",
    "\n",
    "    return cosine_sim"
   ]
  },
  {
   "cell_type": "code",
   "execution_count": 54,
   "metadata": {},
   "outputs": [
    {
     "name": "stdout",
     "output_type": "stream",
     "text": [
      "Cosine similarity between Mary had a little lamb and Mary had a little lamb is:\n",
      "1.0\n",
      "\n",
      "Cosine similarity between Mary had a little lamb and Mary had a small lamb is:\n",
      "0.9368882775306702\n",
      "\n",
      "Cosine similarity between Mary had a little lamb and Mery hat a littlelamb is:\n",
      "0.712941586971283\n",
      "\n",
      "Cosine similarity between Mary had a little lamb and Mary had a lamb is:\n",
      "0.9130943417549133\n",
      "\n",
      "Cosine similarity between Mary had a little lamb and Mary had a little lamb and a big cow is:\n",
      "0.9416894316673279\n",
      "\n",
      "Cosine similarity between Mary had a little lamb and A girl had a small sheep is:\n",
      "0.9330006241798401\n",
      "\n",
      "Cosine similarity between Mary had a little lamb and This old man, he played one is:\n",
      "0.7090077996253967\n",
      "\n",
      "Cosine similarity between Mary had a little lamb and Twinkle Twinkle Little Star How I wonder what you are! is:\n",
      "0.6525208353996277\n",
      "\n",
      "Cosine similarity between Mary had a little lamb and Your STIHL earth auger uses an oil-gasoline mixture for fuel (see the chapter on Fuel in your owner's manual). is:\n",
      "0.6533670425415039\n",
      "\n"
     ]
    },
    {
     "data": {
      "text/plain": [
       "0.65336704"
      ]
     },
     "execution_count": 54,
     "metadata": {},
     "output_type": "execute_result"
    }
   ],
   "source": [
    "mapping = ft_mapping\n",
    "verbose = True                                                                                        # glove   FastText\n",
    "cosine_sim_between_docs(\"Mary had a little lamb\", \"Mary had a little lamb\", mapping, verbose=verbose) # 1.0     1.0\n",
    "cosine_sim_between_docs(\"Mary had a little lamb\", \"Mary had a small lamb\", mapping, verbose=verbose) #  0.980790094274271   0.9368882775306702\n",
    "cosine_sim_between_docs(\"Mary had a little lamb\", \"Mery hat a littlelamb\", mapping, verbose=verbose) #  0.649791857568839   0.712941586971283\n",
    "cosine_sim_between_docs(\"Mary had a little lamb\", \"Mary had a lamb\", mapping, verbose=verbose) #        0.9851323292949361  0.9130943417549133\n",
    "cosine_sim_between_docs(\"Mary had a little lamb\", \"Mary had a little lamb and a big cow\", mapping, verbose=verbose) #0.9759368866608763 0.9416894316673279\n",
    "cosine_sim_between_docs(\"Mary had a little lamb\", \"A girl had a small sheep\", mapping, verbose=verbose) #0.8991286073011774 0.9330006241798401\n",
    "cosine_sim_between_docs(\"Mary had a little lamb\", \"This old man, he played one\", mapping, verbose=verbose) #0.906964976899118   0.7090077996253967\n",
    "cosine_sim_between_docs(\"Mary had a little lamb\", \"Twinkle Twinkle Little Star How I wonder what you are!\", mapping, verbose=verbose) #0.7681287321680009   0.6525208353996277\n",
    "cosine_sim_between_docs(\"Mary had a little lamb\", \"Your STIHL earth auger uses an oil-gasoline mixture for fuel (see the chapter on Fuel in your owner's manual).\", mapping, verbose=verbose) #0.8210465662463234   0.6533670425415039"
   ]
  },
  {
   "cell_type": "markdown",
   "metadata": {},
   "source": [
    "### Tests on CADEC"
   ]
  },
  {
   "cell_type": "code",
   "execution_count": 55,
   "metadata": {},
   "outputs": [
    {
     "data": {
      "text/html": [
       "<div>\n",
       "<style scoped>\n",
       "    .dataframe tbody tr th:only-of-type {\n",
       "        vertical-align: middle;\n",
       "    }\n",
       "\n",
       "    .dataframe tbody tr th {\n",
       "        vertical-align: top;\n",
       "    }\n",
       "\n",
       "    .dataframe thead th {\n",
       "        text-align: right;\n",
       "    }\n",
       "</style>\n",
       "<table border=\"1\" class=\"dataframe\">\n",
       "  <thead>\n",
       "    <tr style=\"text-align: right;\">\n",
       "      <th></th>\n",
       "      <th>entity_type</th>\n",
       "      <th>text</th>\n",
       "    </tr>\n",
       "  </thead>\n",
       "  <tbody>\n",
       "    <tr>\n",
       "      <th>0</th>\n",
       "      <td>0</td>\n",
       "      <td>irretractable lower back pain</td>\n",
       "    </tr>\n",
       "    <tr>\n",
       "      <th>1</th>\n",
       "      <td>0</td>\n",
       "      <td>muscle weakness causing nerve damage and imbal...</td>\n",
       "    </tr>\n",
       "    <tr>\n",
       "      <th>2</th>\n",
       "      <td>0</td>\n",
       "      <td>irritable</td>\n",
       "    </tr>\n",
       "    <tr>\n",
       "      <th>3</th>\n",
       "      <td>0</td>\n",
       "      <td>BP was extrememly high</td>\n",
       "    </tr>\n",
       "    <tr>\n",
       "      <th>4</th>\n",
       "      <td>0</td>\n",
       "      <td>decreased stamina</td>\n",
       "    </tr>\n",
       "    <tr>\n",
       "      <th>5</th>\n",
       "      <td>1</td>\n",
       "      <td>rheumatoid arthritis</td>\n",
       "    </tr>\n",
       "    <tr>\n",
       "      <th>6</th>\n",
       "      <td>1</td>\n",
       "      <td>osteoarthritis</td>\n",
       "    </tr>\n",
       "    <tr>\n",
       "      <th>7</th>\n",
       "      <td>1</td>\n",
       "      <td>hypothyroidism</td>\n",
       "    </tr>\n",
       "    <tr>\n",
       "      <th>8</th>\n",
       "      <td>1</td>\n",
       "      <td>diabetes</td>\n",
       "    </tr>\n",
       "    <tr>\n",
       "      <th>9</th>\n",
       "      <td>1</td>\n",
       "      <td>Thyroid disease</td>\n",
       "    </tr>\n",
       "  </tbody>\n",
       "</table>\n",
       "</div>"
      ],
      "text/plain": [
       "   entity_type                                               text\n",
       "0            0                      irretractable lower back pain\n",
       "1            0  muscle weakness causing nerve damage and imbal...\n",
       "2            0                                          irritable\n",
       "3            0                             BP was extrememly high\n",
       "4            0                                  decreased stamina\n",
       "5            1                               rheumatoid arthritis\n",
       "6            1                                     osteoarthritis\n",
       "7            1                                     hypothyroidism\n",
       "8            1                                           diabetes\n",
       "9            1                                    Thyroid disease"
      ]
     },
     "execution_count": 55,
     "metadata": {},
     "output_type": "execute_result"
    }
   ],
   "source": [
    "cadec_grouped = cadec_df.groupby('entity_type')\n",
    "cadec_sample = cadec_grouped.sample(n=5, random_state=379).reset_index(drop=True)\n",
    "\n",
    "type_dict = {'ADR':0, 'Disease':1, 'Drug':2, 'Finding':3, 'Symptom':4}\n",
    "cadec_sample.entity_type = cadec_sample.entity_type.map(type_dict)\n",
    "cadec_sample.head(10)"
   ]
  },
  {
   "cell_type": "code",
   "execution_count": 58,
   "metadata": {},
   "outputs": [],
   "source": [
    "def calculate_similarity_matrix(cadec_sample, mapping):\n",
    "    similarity_matrix = np.zeros((5,5))\n",
    "    count_matrix = np.zeros((5,5))\n",
    "\n",
    "    for index_i, row_i in cadec_sample.iterrows():\n",
    "        for index_j, row_j in cadec_sample.iterrows():\n",
    "            \n",
    "            # Do not calculate simmilarities for the same entities\n",
    "            # to not overestimate the score within the same group.\n",
    "            if index_i != index_j:\n",
    "                similarity_matrix[row_i.entity_type][row_j.entity_type] += cosine_sim_between_docs(row_i.text, row_j.text, mapping, verbose=False)\n",
    "                count_matrix[row_i.entity_type][row_j.entity_type] += 1\n",
    "\n",
    "    similarity_matrix /= count_matrix\n",
    "    return similarity_matrix\n",
    "    "
   ]
  },
  {
   "cell_type": "code",
   "execution_count": 60,
   "metadata": {},
   "outputs": [],
   "source": [
    "import matplotlib.pyplot as plt\n",
    "\n",
    "def plot_similarity_matrix(similarity_matrix):\n",
    "    \n",
    "    plt.imshow(similarity_matrix, vmin=-1, vmax=1, extent=[0, 5, 0, 5]) \n",
    "    for i in range(5): \n",
    "        for j in range(5): \n",
    "            plt.annotate(str(round(similarity_matrix[i][j], 3)),\n",
    "                        xy=(j+0.5, i+0.7), \n",
    "                        ha='center', va='center', color='white') \n",
    "            \n",
    "    plt.show()"
   ]
  },
  {
   "cell_type": "code",
   "execution_count": 62,
   "metadata": {},
   "outputs": [
    {
     "name": "stderr",
     "output_type": "stream",
     "text": [
      "c:\\Users\\User\\AppData\\Local\\Programs\\Python\\Python312\\Lib\\site-packages\\numpy\\core\\fromnumeric.py:3504: RuntimeWarning: Mean of empty slice.\n",
      "  return _methods._mean(a, axis=axis, dtype=dtype,\n",
      "c:\\Users\\User\\AppData\\Local\\Programs\\Python\\Python312\\Lib\\site-packages\\numpy\\core\\_methods.py:129: RuntimeWarning: invalid value encountered in scalar divide\n",
      "  ret = ret.dtype.type(ret / rcount)\n"
     ]
    },
    {
     "data": {
      "image/png": "[encoded data removed]",
      "text/plain": [
       "<Figure size 640x480 with 1 Axes>"
      ]
     },
     "metadata": {},
     "output_type": "display_data"
    }
   ],
   "source": [
    "similarity_matrix = calculate_similarity_matrix(cadec_sample, ft_mapping)\n",
    "plot_similarity_matrix(similarity_matrix)"
   ]
  },
  {
   "cell_type": "code",
   "execution_count": 63,
   "metadata": {},
   "outputs": [
    {
     "name": "stderr",
     "output_type": "stream",
     "text": [
      "c:\\Users\\User\\AppData\\Local\\Programs\\Python\\Python312\\Lib\\site-packages\\numpy\\core\\fromnumeric.py:3504: RuntimeWarning: Mean of empty slice.\n",
      "  return _methods._mean(a, axis=axis, dtype=dtype,\n",
      "c:\\Users\\User\\AppData\\Local\\Programs\\Python\\Python312\\Lib\\site-packages\\numpy\\core\\_methods.py:129: RuntimeWarning: invalid value encountered in scalar divide\n",
      "  ret = ret.dtype.type(ret / rcount)\n"
     ]
    },
    {
     "data": {
      "image/png": "[encoded data removed]",
      "text/plain": [
       "<Figure size 640x480 with 1 Axes>"
      ]
     },
     "metadata": {},
     "output_type": "display_data"
    }
   ],
   "source": [
    "similarity_matrix = calculate_similarity_matrix(cadec_sample, glove_mapping)\n",
    "plot_similarity_matrix(similarity_matrix)"
   ]
  }
 ],
 "metadata": {
  "kernelspec": {
   "display_name": "Python 3",
   "language": "python",
   "name": "python3"
  },
  "language_info": {
   "codemirror_mode": {
    "name": "ipython",
    "version": 3
   },
   "file_extension": ".py",
   "mimetype": "text/x-python",
   "name": "python",
   "nbconvert_exporter": "python",
   "pygments_lexer": "ipython3",
   "version": "3.12.2"
  }
 },
 "nbformat": 4,
 "nbformat_minor": 2
}
